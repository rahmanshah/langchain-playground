{
 "cells": [
  {
   "cell_type": "markdown",
   "id": "a20d4ab4",
   "metadata": {},
   "source": [
    "## dotenv and chatmodels setup for agent"
   ]
  },
  {
   "cell_type": "code",
   "execution_count": 3,
   "id": "97980984",
   "metadata": {},
   "outputs": [
    {
     "data": {
      "text/plain": [
       "True"
      ]
     },
     "execution_count": 3,
     "metadata": {},
     "output_type": "execute_result"
    }
   ],
   "source": [
    "from dotenv import load_dotenv, find_dotenv\n",
    "import os\n",
    "\n",
    "load_dotenv(find_dotenv(), override=True)"
   ]
  },
  {
   "cell_type": "code",
   "execution_count": 4,
   "id": "0ce59809",
   "metadata": {},
   "outputs": [
    {
     "name": "stdout",
     "output_type": "stream",
     "text": [
      "The capital of France is Paris.\n"
     ]
    }
   ],
   "source": [
    "from langchain_groq import ChatGroq\n",
    "\n",
    "llm = ChatGroq(model=\"llama3-8b-8192\", temperature=0.1)\n",
    "\n",
    "response = llm.invoke(\"What is the capital of France?\")\n",
    "print(response.content)"
   ]
  },
  {
   "cell_type": "markdown",
   "id": "a5dfc90a",
   "metadata": {},
   "source": [
    "## Langchain Agents:PythonREPL"
   ]
  },
  {
   "cell_type": "code",
   "execution_count": 10,
   "id": "225895c0",
   "metadata": {},
   "outputs": [
    {
     "name": "stdout",
     "output_type": "stream",
     "text": [
      "The square root of 16 is: 4.0\n",
      "\n"
     ]
    }
   ],
   "source": [
    "from langchain_experimental.utilities import PythonREPL\n",
    "\n",
    "python_repl = PythonREPL()\n",
    "\n",
    "response = python_repl.run('print(\"The square root of 16 is:\", 16 ** 0.5)')\n",
    "print(response)"
   ]
  },
  {
   "cell_type": "code",
   "execution_count": 17,
   "id": "b08f1f77",
   "metadata": {},
   "outputs": [
    {
     "name": "stdout",
     "output_type": "stream",
     "text": [
      "\n",
      "\n",
      "\u001b[1m> Entering new AgentExecutor chain...\u001b[0m\n",
      "\u001b[32;1m\u001b[1;3mThought: To find the square root of 16, I can use the math.sqrt() function in Python.\n",
      "\n",
      "Action: Python_REPL\n",
      "Action Input: import math; print(math.sqrt(16))\u001b[0m\n",
      "Observation: \u001b[36;1m\u001b[1;3m4.0\n",
      "\u001b[0m\n",
      "Thought:\u001b[32;1m\u001b[1;3mThought: The square root of 16 is 4.0.\n",
      "\n",
      "Action: Python_REPL\n",
      "Action Input: print(4.0 == math.sqrt(16))\u001b[0m\n",
      "Observation: \u001b[36;1m\u001b[1;3mTrue\n",
      "\u001b[0m\n",
      "Thought:\u001b[32;1m\u001b[1;3mQuestion: What is the square root of 16?\n",
      "Thought: To find the square root of 16, I can use the math.sqrt() function in Python.\n",
      "\n",
      "Action: Python_REPL\n",
      "Action Input: import math; print(math.sqrt(16))\u001b[0m\n",
      "Observation: \u001b[36;1m\u001b[1;3m4.0\n",
      "\u001b[0m\n",
      "Thought:\u001b[32;1m\u001b[1;3mFinal Answer: The square root of 16 is 4.0.\u001b[0m\n",
      "\n",
      "\u001b[1m> Finished chain.\u001b[0m\n",
      "The square root of 16 is 4.0.\n"
     ]
    }
   ],
   "source": [
    "from langchain_experimental.agents.agent_toolkits import create_python_agent\n",
    "from langchain_experimental.tools.python.tool import PythonREPLTool\n",
    "\n",
    "python_repl_tool = PythonREPLTool()\n",
    "\n",
    "agent = create_python_agent(\n",
    "    llm=llm,    \n",
    "    tool=python_repl_tool,\n",
    "    verbose=True)\n",
    "\n",
    "response = agent.invoke(\"What is the square root of 16?\")\n",
    "print(response[\"output\"])"
   ]
  }
 ],
 "metadata": {
  "kernelspec": {
   "display_name": ".venv",
   "language": "python",
   "name": "python3"
  },
  "language_info": {
   "codemirror_mode": {
    "name": "ipython",
    "version": 3
   },
   "file_extension": ".py",
   "mimetype": "text/x-python",
   "name": "python",
   "nbconvert_exporter": "python",
   "pygments_lexer": "ipython3",
   "version": "3.13.5"
  }
 },
 "nbformat": 4,
 "nbformat_minor": 5
}
