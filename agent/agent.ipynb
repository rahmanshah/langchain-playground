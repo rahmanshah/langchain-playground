{
 "cells": [
  {
   "cell_type": "markdown",
   "id": "a20d4ab4",
   "metadata": {},
   "source": [
    "## dotenv and chatmodels setup for agent"
   ]
  },
  {
   "cell_type": "code",
   "execution_count": 3,
   "id": "97980984",
   "metadata": {},
   "outputs": [
    {
     "data": {
      "text/plain": [
       "True"
      ]
     },
     "execution_count": 3,
     "metadata": {},
     "output_type": "execute_result"
    }
   ],
   "source": [
    "from dotenv import load_dotenv, find_dotenv\n",
    "import os\n",
    "\n",
    "load_dotenv(find_dotenv(), override=True)"
   ]
  },
  {
   "cell_type": "code",
   "execution_count": 4,
   "id": "0ce59809",
   "metadata": {},
   "outputs": [
    {
     "name": "stdout",
     "output_type": "stream",
     "text": [
      "The capital of France is Paris.\n"
     ]
    }
   ],
   "source": [
    "from langchain_groq import ChatGroq\n",
    "\n",
    "llm = ChatGroq(model=\"llama3-8b-8192\", temperature=0.1)\n",
    "\n",
    "response = llm.invoke(\"What is the capital of France?\")\n",
    "print(response.content)"
   ]
  },
  {
   "cell_type": "markdown",
   "id": "a5dfc90a",
   "metadata": {},
   "source": [
    "## Langchain Agents:PythonREPL"
   ]
  },
  {
   "cell_type": "code",
   "execution_count": 10,
   "id": "225895c0",
   "metadata": {},
   "outputs": [
    {
     "name": "stdout",
     "output_type": "stream",
     "text": [
      "The square root of 16 is: 4.0\n",
      "\n"
     ]
    }
   ],
   "source": [
    "from langchain_experimental.utilities import PythonREPL\n",
    "\n",
    "python_repl = PythonREPL()\n",
    "\n",
    "response = python_repl.run('print(\"The square root of 16 is:\", 16 ** 0.5)')\n",
    "print(response)"
   ]
  },
  {
   "cell_type": "code",
   "execution_count": 17,
   "id": "b08f1f77",
   "metadata": {},
   "outputs": [
    {
     "name": "stdout",
     "output_type": "stream",
     "text": [
      "\n",
      "\n",
      "\u001b[1m> Entering new AgentExecutor chain...\u001b[0m\n",
      "\u001b[32;1m\u001b[1;3mThought: To find the square root of 16, I can use the math.sqrt() function in Python.\n",
      "\n",
      "Action: Python_REPL\n",
      "Action Input: import math; print(math.sqrt(16))\u001b[0m\n",
      "Observation: \u001b[36;1m\u001b[1;3m4.0\n",
      "\u001b[0m\n",
      "Thought:\u001b[32;1m\u001b[1;3mThought: The square root of 16 is 4.0.\n",
      "\n",
      "Action: Python_REPL\n",
      "Action Input: print(4.0 == math.sqrt(16))\u001b[0m\n",
      "Observation: \u001b[36;1m\u001b[1;3mTrue\n",
      "\u001b[0m\n",
      "Thought:\u001b[32;1m\u001b[1;3mQuestion: What is the square root of 16?\n",
      "Thought: To find the square root of 16, I can use the math.sqrt() function in Python.\n",
      "\n",
      "Action: Python_REPL\n",
      "Action Input: import math; print(math.sqrt(16))\u001b[0m\n",
      "Observation: \u001b[36;1m\u001b[1;3m4.0\n",
      "\u001b[0m\n",
      "Thought:\u001b[32;1m\u001b[1;3mFinal Answer: The square root of 16 is 4.0.\u001b[0m\n",
      "\n",
      "\u001b[1m> Finished chain.\u001b[0m\n",
      "The square root of 16 is 4.0.\n"
     ]
    }
   ],
   "source": [
    "from langchain_experimental.agents.agent_toolkits import create_python_agent\n",
    "from langchain_experimental.tools.python.tool import PythonREPLTool\n",
    "\n",
    "python_repl_tool = PythonREPLTool()\n",
    "\n",
    "agent = create_python_agent(\n",
    "    llm=llm,    \n",
    "    tool=python_repl_tool,\n",
    "    verbose=True)\n",
    "\n",
    "response = agent.invoke(\"What is the square root of 16?\")\n",
    "print(response[\"output\"])"
   ]
  },
  {
   "cell_type": "markdown",
   "id": "58625835",
   "metadata": {},
   "source": [
    "## Langchain Tools: DuckDuckGo and Wikipedia"
   ]
  },
  {
   "cell_type": "code",
   "execution_count": 20,
   "id": "af78b944",
   "metadata": {},
   "outputs": [
    {
     "name": "stdout",
     "output_type": "stream",
     "text": [
      "snippet: WTC Winners List: Check out the latest list of World Test Championship Winners List from 2019 to 2025, including runners-up, venue, player of the series, man of the match, most WTC wins & more on ..., title: WTC Winners List from 2019 to 2025 | List of World Test Championship ..., link: https://www.crictracker.com/world-test-championship-winners-runners-list/, snippet: Here's the complete list of ICC World Test Championship winners from 2019 to 2025. SBI PO Notification 2025 OUT, Check Here ... The 2023-2025 cycle was won by South Africa against Australia ..., title: WTC Winners: Full List of World Test Championship Winners ⦗𝟮𝟬𝟭𝟵-𝟮𝟬𝟮𝟱⦘, link: https://www.jagranjosh.com/general-knowledge/world-test-championship-winners-list-1741691620-1, snippet: Australia won the World Test Championship for the 2021-2023 season, defeating India by 209 runs in the WTC Final 2023. New Zealand defeated India by eight wickets to win the inaugural WTC Final 2021. South Africa are the latest entrant to the list. The Proteas beat Australia in the WTC Final 2025 at the Lord's to win the Test mace., title: ICC World Test Championship winners list - InsideSport, link: https://www.insidesport.in/cricket/icc-world-test-championship-winners-list/, snippet: WTC Winner List: The World Test Championship or WTC, is the premier championship for Test cricket run by the International Cricket Council (ICC) since 2019. World Test Championship is a league competition that runs for a period of 2 years, where the top 2 teams of the WTC points table will advance to the final game., title: WTC Winner List With Runner-up, Venue, Records - UPDATED - Times of Sports, link: https://www.timesofsports.com/cricket/world-test-championship/winner-list/\n"
     ]
    }
   ],
   "source": [
    "from langchain.tools import DuckDuckGoSearchResults\n",
    "\n",
    "duckduckgo_search = DuckDuckGoSearchResults()\n",
    "\n",
    "response = duckduckgo_search.invoke(\"Which country won the last Test Championship?\")  \n",
    "\n",
    "print(response)"
   ]
  }
 ],
 "metadata": {
  "kernelspec": {
   "display_name": ".venv",
   "language": "python",
   "name": "python3"
  },
  "language_info": {
   "codemirror_mode": {
    "name": "ipython",
    "version": 3
   },
   "file_extension": ".py",
   "mimetype": "text/x-python",
   "name": "python",
   "nbconvert_exporter": "python",
   "pygments_lexer": "ipython3",
   "version": "3.13.5"
  }
 },
 "nbformat": 4,
 "nbformat_minor": 5
}
