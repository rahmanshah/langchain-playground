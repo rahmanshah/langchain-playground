{
 "cells": [
  {
   "cell_type": "markdown",
   "id": "c740561b",
   "metadata": {},
   "source": [
    "## dotenv and chatmodels setup"
   ]
  },
  {
   "cell_type": "code",
   "execution_count": 3,
   "id": "c2bda330",
   "metadata": {},
   "outputs": [
    {
     "data": {
      "text/plain": [
       "True"
      ]
     },
     "execution_count": 3,
     "metadata": {},
     "output_type": "execute_result"
    }
   ],
   "source": [
    "from dotenv import load_dotenv, find_dotenv\n",
    "import os\n",
    "\n",
    "load_dotenv(find_dotenv(), override=True)"
   ]
  },
  {
   "cell_type": "code",
   "execution_count": 5,
   "id": "56de01ce",
   "metadata": {},
   "outputs": [
    {
     "name": "stdout",
     "output_type": "stream",
     "text": [
      "The capital of Finland is Helsinki.\n"
     ]
    }
   ],
   "source": [
    "from langchain_groq import ChatGroq\n",
    "\n",
    "llm = ChatGroq(model=\"llama3-8b-8192\", temperature=0.1)\n",
    "\n",
    "response = llm.invoke(\"What is the capital of Finland?\")\n",
    "print(response.content)"
   ]
  },
  {
   "cell_type": "code",
   "execution_count": 6,
   "id": "a25d1e15",
   "metadata": {},
   "outputs": [],
   "source": [
    "from langchain.prompts import PromptTemplate\n",
    "from langchain import hub\n",
    "from langchain.agents import initialize_agent, Tool, AgentExecutor,create_react_agent\n",
    "from langchain.tools import DuckDuckGoSearchRun, WikipediaQueryRun\n",
    "from langchain_community.utilities import WikipediaAPIWrapper\n",
    "from langchain_experimental.tools.python.tool import PythonREPLTool"
   ]
  },
  {
   "cell_type": "markdown",
   "id": "aa876f0d",
   "metadata": {},
   "source": [
    "### Template setup"
   ]
  },
  {
   "cell_type": "code",
   "execution_count": null,
   "id": "8bcf35fc",
   "metadata": {},
   "outputs": [
    {
     "name": "stderr",
     "output_type": "stream",
     "text": [
      "c:\\Users\\Shah\\Desktop\\langchain-playground\\.venv\\Lib\\site-packages\\langsmith\\client.py:272: LangSmithMissingAPIKeyWarning: API key must be provided when using hosted LangSmith API\n",
      "  warnings.warn(\n"
     ]
    },
    {
     "name": "stdout",
     "output_type": "stream",
     "text": [
      "<class 'langchain_core.prompts.prompt.PromptTemplate'>\n",
      "['agent_scratchpad', 'input', 'tool_names', 'tools']\n",
      "Answer the following questions as best you can. You have access to the following tools:\n",
      "\n",
      "{tools}\n",
      "\n",
      "Use the following format:\n",
      "\n",
      "Question: the input question you must answer\n",
      "Thought: you should always think about what to do\n",
      "Action: the action to take, should be one of [{tool_names}]\n",
      "Action Input: the input to the action\n",
      "Observation: the result of the action\n",
      "... (this Thought/Action/Action Input/Observation can repeat N times)\n",
      "Thought: I now know the final answer\n",
      "Final Answer: the final answer to the original input question\n",
      "\n",
      "Begin!\n",
      "\n",
      "Question: {input}\n",
      "Thought:{agent_scratchpad}\n"
     ]
    }
   ],
   "source": [
    "template=\"\"\"\n",
    "Answer the question as truthfully as possible.\n",
    "If you don't know the answer, say \"I don't know\".\n",
    "Question: {question}\n",
    "\"\"\"\n",
    "\n",
    "prompt_template = PromptTemplate.from_template(template)\n",
    "\n",
    "prompt = hub.pull(\"hwchase17/react\")\n",
    "\n",
    "#print(type(prompt))\n",
    "\n",
    "#print(prompt.input_variables)\n",
    "\n",
    "#print(prompt.template)"
   ]
  },
  {
   "cell_type": "markdown",
   "id": "16673819",
   "metadata": {},
   "source": [
    "### Tools Setup"
   ]
  },
  {
   "cell_type": "code",
   "execution_count": null,
   "id": "634d60a7",
   "metadata": {},
   "outputs": [],
   "source": [
    "# Python REPL Tool - for executing Python code\n",
    "python_repl = PythonREPLTool()\n",
    "\n",
    "python_repl_tool = Tool(\n",
    "    name=\"Python REPL\",\n",
    "    func=python_repl.run,\n",
    "    description=\"Useful for when you need to answer questions about Python code. Input should be a valid Python expression.\"\n",
    ")\n",
    "\n",
    "# Wikipedia Tool - for querying Wikipedia\n",
    "api_wrapper = WikipediaAPIWrapper()\n",
    "wikipedia = WikipediaQueryRun(api_wrapper=api_wrapper)\n",
    "\n",
    "wikipedia_tool = Tool(\n",
    "    name=\"Wikipedia\",\n",
    "    func=wikipedia.run,\n",
    "    description=\"Useful for when you need to answer questions about Wikipedia articles. Input should be a valid Wikipedia query.\"\n",
    ")\n",
    "\n",
    "# DuckDuckGo Search Tool - for searching the web\n",
    "search = DuckDuckGoSearchRun()\n",
    "duckduckgo_tool = Tool(\n",
    "    name=\"DuckDuckGo Search\",\n",
    "    func=search.run,\n",
    "    description=\"Useful for when you need to answer questions about current events or general knowledge. Input should be a valid search query.\"\n",
    ")\n",
    "\n",
    "tools = [python_repl_tool, wikipedia_tool, duckduckgo_tool]"
   ]
  }
 ],
 "metadata": {
  "kernelspec": {
   "display_name": ".venv",
   "language": "python",
   "name": "python3"
  },
  "language_info": {
   "codemirror_mode": {
    "name": "ipython",
    "version": 3
   },
   "file_extension": ".py",
   "mimetype": "text/x-python",
   "name": "python",
   "nbconvert_exporter": "python",
   "pygments_lexer": "ipython3",
   "version": "3.13.5"
  }
 },
 "nbformat": 4,
 "nbformat_minor": 5
}
