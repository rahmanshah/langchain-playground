{
 "cells": [
  {
   "cell_type": "markdown",
   "id": "c740561b",
   "metadata": {},
   "source": [
    "## dotenv and chatmodels setup"
   ]
  },
  {
   "cell_type": "code",
   "execution_count": 2,
   "id": "c2bda330",
   "metadata": {},
   "outputs": [
    {
     "data": {
      "text/plain": [
       "True"
      ]
     },
     "execution_count": 2,
     "metadata": {},
     "output_type": "execute_result"
    }
   ],
   "source": [
    "from dotenv import load_dotenv, find_dotenv\n",
    "import os\n",
    "\n",
    "load_dotenv(find_dotenv(), override=True)"
   ]
  },
  {
   "cell_type": "code",
   "execution_count": 3,
   "id": "56de01ce",
   "metadata": {},
   "outputs": [
    {
     "name": "stdout",
     "output_type": "stream",
     "text": [
      "The capital of Finland is Helsinki.\n"
     ]
    }
   ],
   "source": [
    "from langchain_groq import ChatGroq\n",
    "\n",
    "llm = ChatGroq(model=\"llama3-8b-8192\", temperature=0.1)\n",
    "\n",
    "response = llm.invoke(\"What is the capital of Finland?\")\n",
    "print(response.content)"
   ]
  },
  {
   "cell_type": "code",
   "execution_count": 4,
   "id": "a25d1e15",
   "metadata": {},
   "outputs": [],
   "source": [
    "from langchain.prompts import PromptTemplate\n",
    "from langchain import hub\n",
    "from langchain.agents import initialize_agent, Tool, AgentExecutor,create_react_agent\n",
    "from langchain.tools import DuckDuckGoSearchRun, WikipediaQueryRun\n",
    "from langchain_community.utilities import WikipediaAPIWrapper\n",
    "from langchain_experimental.tools.python.tool import PythonREPLTool"
   ]
  },
  {
   "cell_type": "markdown",
   "id": "aa876f0d",
   "metadata": {},
   "source": [
    "### Template setup"
   ]
  },
  {
   "cell_type": "code",
   "execution_count": 5,
   "id": "8bcf35fc",
   "metadata": {},
   "outputs": [
    {
     "name": "stderr",
     "output_type": "stream",
     "text": [
      "c:\\Users\\Shah\\Desktop\\langchain-playground\\.venv\\Lib\\site-packages\\langsmith\\client.py:272: LangSmithMissingAPIKeyWarning: API key must be provided when using hosted LangSmith API\n",
      "  warnings.warn(\n"
     ]
    }
   ],
   "source": [
    "template=\"\"\"\n",
    "Answer the question as truthfully as possible.\n",
    "If you don't know the answer, say \"I don't know\".\n",
    "Question: {question}\n",
    "\"\"\"\n",
    "\n",
    "prompt_template = PromptTemplate.from_template(template)\n",
    "\n",
    "prompt = hub.pull(\"hwchase17/react\")\n",
    "\n",
    "#print(type(prompt))\n",
    "\n",
    "#print(prompt.input_variables)\n",
    "\n",
    "#print(prompt.template)"
   ]
  },
  {
   "cell_type": "markdown",
   "id": "16673819",
   "metadata": {},
   "source": [
    "### Tools Setup"
   ]
  },
  {
   "cell_type": "code",
   "execution_count": 6,
   "id": "634d60a7",
   "metadata": {},
   "outputs": [],
   "source": [
    "# Python REPL Tool - for executing Python code\n",
    "python_repl = PythonREPLTool()\n",
    "\n",
    "python_repl_tool = Tool(\n",
    "    name=\"Python REPL\",\n",
    "    func=python_repl.run,\n",
    "    description=\"Useful for when you need to answer questions about Python code. Input should be a valid Python expression.\"\n",
    ")\n",
    "\n",
    "# Wikipedia Tool - for querying Wikipedia\n",
    "api_wrapper = WikipediaAPIWrapper()\n",
    "wikipedia = WikipediaQueryRun(api_wrapper=api_wrapper)\n",
    "\n",
    "wikipedia_tool = Tool(\n",
    "    name=\"Wikipedia\",\n",
    "    func=wikipedia.run,\n",
    "    description=\"Useful for when you need to answer questions about Wikipedia articles. Input should be a valid Wikipedia query.\"\n",
    ")\n",
    "\n",
    "# DuckDuckGo Search Tool - for searching the web\n",
    "search = DuckDuckGoSearchRun()\n",
    "duckduckgo_tool = Tool(\n",
    "    name=\"DuckDuckGo Search\",\n",
    "    func=search.run,\n",
    "    description=\"Useful for when you need to answer questions about current events or general knowledge. Input should be a valid search query.\"\n",
    ")\n",
    "\n",
    "tools = [python_repl_tool, wikipedia_tool, duckduckgo_tool]"
   ]
  },
  {
   "cell_type": "markdown",
   "id": "eb3c19a8",
   "metadata": {},
   "source": [
    "### Creating Agent"
   ]
  },
  {
   "cell_type": "code",
   "execution_count": 7,
   "id": "b283a77d",
   "metadata": {},
   "outputs": [],
   "source": [
    "agent = create_react_agent(\n",
    "    llm=llm,\n",
    "    tools=tools,\n",
    "    prompt=prompt\n",
    ")\n",
    "\n",
    "agent_executor = AgentExecutor(\n",
    "    agent=agent, \n",
    "    tools=tools, \n",
    "    verbose=True,\n",
    "    handle_parsing_errors=True,\n",
    "    max_iterations=3)\n"
   ]
  },
  {
   "cell_type": "markdown",
   "id": "acf5b8f6",
   "metadata": {},
   "source": [
    "### Test out the agent"
   ]
  },
  {
   "cell_type": "code",
   "execution_count": 8,
   "id": "f300e4e0",
   "metadata": {},
   "outputs": [
    {
     "name": "stdout",
     "output_type": "stream",
     "text": [
      "\n",
      "\n",
      "\u001b[1m> Entering new AgentExecutor chain...\u001b[0m\n"
     ]
    },
    {
     "name": "stderr",
     "output_type": "stream",
     "text": [
      "Python REPL can execute arbitrary code. Use with caution.\n"
     ]
    },
    {
     "name": "stdout",
     "output_type": "stream",
     "text": [
      "\u001b[32;1m\u001b[1;3mThought: I need to generate the first 10 numbers of the Fibonacci series. This is a mathematical problem, and I can use the Python REPL to solve it.\n",
      "\n",
      "Action: Python REPL\n",
      "Action Input: `fibonacci = [0, 1]; [fibonacci.append(fibonacci[-1] + fibonacci[-2]) for _ in range(8)]`\u001b[0m\u001b[36;1m\u001b[1;3m\u001b[0m\u001b[32;1m\u001b[1;3mThought: Now that I have generated the first 10 numbers of the Fibonacci series using the Python REPL, I can print the result.\n",
      "\n",
      "Action: Python REPL\n",
      "Action Input: `print(fibonacci)`\u001b[0m\u001b[36;1m\u001b[1;3m[0, 1, 1, 2, 3, 5, 8, 13, 21, 34]\n",
      "\u001b[0m\u001b[32;1m\u001b[1;3mThought: I have successfully generated the first 10 numbers of the Fibonacci series using the Python REPL.\n",
      "\n",
      "Final Answer: The first 10 numbers of the Fibonacci series are [0, 1, 1, 2, 3, 5, 8, 13, 21, 34].\u001b[0m\n",
      "\n",
      "\u001b[1m> Finished chain.\u001b[0m\n"
     ]
    }
   ],
   "source": [
    "question = \"Generate first 10 numbers of the Fibonacci series\"\n",
    "response = agent_executor.invoke({'input': prompt_template.format(question=question)})\n",
    "#print(response)"
   ]
  },
  {
   "cell_type": "code",
   "execution_count": 9,
   "id": "d7d626fe",
   "metadata": {},
   "outputs": [
    {
     "name": "stdout",
     "output_type": "stream",
     "text": [
      "\n",
      "\n",
      "\u001b[1m> Entering new AgentExecutor chain...\u001b[0m\n",
      "\u001b[32;1m\u001b[1;3mThought: I can use Wikipedia to find the answer to this question.\n",
      "\n",
      "Action: Wikipedia\n",
      "Action Input: \"Finland\"\u001b[0m"
     ]
    },
    {
     "name": "stderr",
     "output_type": "stream",
     "text": [
      "c:\\Users\\Shah\\Desktop\\langchain-playground\\.venv\\Lib\\site-packages\\wikipedia\\wikipedia.py:389: GuessedAtParserWarning: No parser was explicitly specified, so I'm using the best available HTML parser for this system (\"lxml\"). This usually isn't a problem, but if you run this code on another system, or in a different virtual environment, it may use a different parser and behave differently.\n",
      "\n",
      "The code that caused this warning is on line 389 of the file c:\\Users\\Shah\\Desktop\\langchain-playground\\.venv\\Lib\\site-packages\\wikipedia\\wikipedia.py. To get rid of this warning, pass the additional argument 'features=\"lxml\"' to the BeautifulSoup constructor.\n",
      "\n",
      "  lis = BeautifulSoup(html).find_all('li')\n"
     ]
    },
    {
     "name": "stdout",
     "output_type": "stream",
     "text": [
      "\u001b[33;1m\u001b[1;3mPage: Finland\n",
      "Summary: Finland, officially the Republic of Finland, is a Nordic country in Northern Europe. It borders Sweden to the northwest, Norway to the north, and Russia to the east, with the Gulf of Bothnia to the west and the Gulf of Finland to the south, opposite Estonia. Finland has a population of 5.6 million, the majority being ethnic Finns. Its capital and largest city is Helsinki. The official languages are Finnish and Swedish, the mother tongues of 84.1 percent and 5.1 percent of the population, respectively. Finland's climate varies from humid continental in the south to boreal in the north. Its land is predominantly covered by boreal forest, with over 180,000 recorded lakes.\n",
      "Finland was first settled around 9000 BC after the last Ice Age. During the Stone Age, various cultures emerged, distinguished by different styles of ceramics. The Bronze Age and Iron Ages were marked by contacts with other cultures in Fennoscandia and the Baltic region. From the late 13th century, Finland became part of Sweden following the Northern Crusades. In 1809, as a result of the Finnish War, Finland was captured from Sweden and became an autonomous grand duchy within the Russian Empire. During this period, Finnish art flourished and an independence movement gradually developed. Finland became the first territory in Europe to grant universal suffrage in 1906, and the first in the world to give all adult citizens the right to run for public office. \n",
      "Following the Russian Revolution of 1917, Finland declared its independence. A civil war ensued the following year, with the anticommunist Whites emerging victorious. Finland's status as a republic was confirmed in 1919. During World War II, Finland fought against the Soviet Union in the Winter War and the Continuation War, and later against Nazi Germany in the Lapland War. As a result, it lost parts of its territory to the Soviet Union but retained its independence and democracy. Finland remained a largely rural and agrarian country until the 1950s, when it pursued rapid industrialisation and a Nordic-style welfare state, resulting in an advanced economy and high per capita income. During the Cold War, Finland embraced an official policy of neutrality. Since then, it has become a member of the European Union in 1995, the Eurozone in 1999, and, following the Russian invasion of Ukraine, joined NATO in 2023. \n",
      "Finland is a member of various international organisations, such as the Nordic Council, the Schengen Area, and the Organisation for Economic Co-operation and Development (OECD). The nation performs extremely well in national performance metrics, including education, economic competitiveness, civil liberties, quality of life, and human development.\n",
      "\n",
      "Page: Finland (song)\n",
      "Summary: \"Finland\" is a Monty Python comedy song written and performed by Michael Palin and arranged by John Du Prez with a guitar accompaniment by Brian Willoughby. It first appeared on the album Monty Python's Contractual Obligation Album from 1980 and was later included on the 1989 compilation Monty Python Sings.\n",
      "It purports to be a celebration of Finland, a country that is overlooked when travelling abroad as \"a poor second to Belgium\", despite the fact that it \"has it all\" with lofty mountains and tall trees and pleasures including: pony trekking, camping or \"just watching TV\". (In reality, \"mountains so lofty\" are not characteristic of Finland as the Scandinavian Mountains only just touch the northwesternmost corner of the country.)\n",
      "Michael Palin was filmed singing a verse from \"Finland\" during an episode of his 1992 travelogue series Pole to Pole during a segment in which he is shown traveling across that country. A heavily edited version of \"Finland\" is used as the opening song of the stage musical Spamalot (ending with a historian exasperatedly yelling \"I said England!\"), and it appeared in a new version as part of the \"Spam Song\" in Monty Python Live (Mostly).\u001b[0m\u001b[32;1m\u001b[1;3mThought: I now know that Finland is a country located in Northern Europe, and its capital is Helsinki.\n",
      "\n",
      "Action: Python REPL\n",
      "Action Input: \"Finland's capital\"\u001b[0m\u001b[36;1m\u001b[1;3mSyntaxError('unterminated string literal (detected at line 1)', ('<string>', 1, 8, \"Finland's capital\", 1, 8))\u001b[0m\u001b[32;1m\u001b[1;3mThought: It seems that the Python REPL is not able to directly answer the question about Finland's capital.\n",
      "\n",
      "Action: Wikipedia\n",
      "Action Input: \"Finland's capital\"\u001b[0m\u001b[33;1m\u001b[1;3mPage: Helsinki\n",
      "Summary: Helsinki (Swedish: Helsingfors) is the capital and most populous city in Finland. It is on the shore of the Gulf of Finland and is the seat of southern Finland's Uusimaa region. About 687,000 people live in the municipality, with 1.3 million in the capital region and 1.6 million in the metropolitan area. As the most populous urban area in Finland, it is the country's most significant centre for politics, education, finance, culture, and research. Helsinki is 80 kilometres (50 mi) north of Tallinn, Estonia, 400 kilometres (250 mi) east of Stockholm, Sweden, and 300 kilometres (190 mi) west of Saint Petersburg, Russia. Helsinki has significant historical connections with these three cities.\n",
      "Together with the cities of Espoo, Vantaa and Kauniainen—and surrounding commuter towns, including the neighbouring municipality of Sipoo to the east—Helsinki forms a metropolitan area. This area is often considered Finland's only metropolis and is the world's northernmost metropolitan area with over one million inhabitants. Additionally, it is the northernmost capital of an EU member state. Helsinki is the third-largest municipality in the Nordic countries, after Stockholm and Oslo. Its urban area is the third-largest in the Nordic countries, after Stockholm and Copenhagen. Helsinki Airport, in the neighbouring city of Vantaa, serves the city with frequent flights to numerous destinations in Europe, North America, and Asia.\n",
      "Helsinki is a bilingual municipality with Finnish and Swedish as its official languages. The population consists of 74% Finnish speakers, 5% Swedish speakers, and 20% speakers of other languages.\n",
      "Helsinki has hosted the 1952 Summer Olympics, the first CSCE/OSCE Summit in 1975, the first World Athletics Championships in 1983, the 52nd Eurovision Song Contest in 2007 and it was the 2012 World Design Capital. The city is recognized as a \"Design City\" in 2014 by UNESCO's Creative Cities Network.\n",
      "Helsinki has one of the highest standards of urban living in the world. In 2011, the British magazine Monocle ranked Helsinki as the world's most liveable city in its livable cities index. In the Economist Intelligence Unit's 2016 livability survey, Helsinki ranked ninth out of 140 cities. In July 2021, the American magazine Time named Helsinki one of the world's greatest places, a city that \"can grow into a burgeoning cultural nest in the future\" and is already known as an environmental pioneer. In an international Cities of Choice survey conducted in 2021 by the Boston Consulting Group and the BCG Henderson Institute, Helsinki was ranked the third-best city in the world to live in, with London and New York City coming in first and second. In the Condé Nast Traveler magazine's 2023 Readers' Choice Awards, Helsinki was ranked the 4th-friendliest city in Europe. Helsinki, along with Rovaniemi in Lapland, is also one of Finland's most important tourist cities. Due to the large number of sea passengers, Helsinki is classified as a major port city, and in 2017 it was rated the world's busiest passenger port.\n",
      "\n",
      "Page: Finland\n",
      "Summary: Finland, officially the Republic of Finland, is a Nordic country in Northern Europe. It borders Sweden to the northwest, Norway to the north, and Russia to the east, with the Gulf of Bothnia to the west and the Gulf of Finland to the south, opposite Estonia. Finland has a population of 5.6 million, the majority being ethnic Finns. Its capital and largest city is Helsinki. The official languages are Finnish and Swedish, the mother tongues of 84.1 percent and 5.1 percent of the population, respectively. Finland's climate varies from humid continental in the south to boreal in the north. Its land is predominantly covered by boreal forest, with over 180,000 recorded lakes.\n",
      "Finland was first settled around 9000 BC after the last Ice Age. During the Stone Age, various cultures emerged, distinguished by different styles of ceramics. The Bronze Age and Iron Ages were marked by contacts with othe\u001b[0m\u001b[32;1m\u001b[1;3m\u001b[0m\n",
      "\n",
      "\u001b[1m> Finished chain.\u001b[0m\n",
      "Agent stopped due to iteration limit or time limit.\n"
     ]
    }
   ],
   "source": [
    "question = \"What is the capital of Finland?\"\n",
    "response = agent_executor.invoke({'input': prompt_template.format(question=question)})\n",
    "print(response['output'])"
   ]
  },
  {
   "cell_type": "code",
   "execution_count": 10,
   "id": "0c37ae12",
   "metadata": {},
   "outputs": [
    {
     "name": "stdout",
     "output_type": "stream",
     "text": [
      "\n",
      "\n",
      "\u001b[1m> Entering new AgentExecutor chain...\u001b[0m\n",
      "\u001b[32;1m\u001b[1;3mThought: I need to find the current prime minister of the UK. I can use Wikipedia to find the answer.\n",
      "\n",
      "Action: Wikipedia\n",
      "Action Input: \"Current Prime Minister of the UK\"\u001b[0m\u001b[33;1m\u001b[1;3mPage: List of prime ministers of the United Kingdom\n",
      "Summary: The prime minister of the United Kingdom is the principal minister of the crown of His Majesty's Government, and the head of the British Cabinet. \n",
      "There is no specific date for when the office of prime minister first appeared, as the role was not created but rather evolved over time through a merger of duties. The term was regularly, if informally, used by Robert Walpole by the 1730s. It was used in the House of Commons as early as 1805, and it was certainly in parliamentary use by the 1880s, although did not become the official title until 1905, when Arthur Balfour was prime minister.  \n",
      "Historians generally consider Robert Walpole, who led the government of the Kingdom of Great Britain for over twenty years from 1721, to be the first prime minister. Walpole is also the longest-serving British prime minister by this definition. The first prime minister of the United Kingdom of Great Britain and Ireland was William Pitt the Younger at its creation on 1 January 1801. The first to use the title in an official act was Benjamin Disraeli who signed the 1878 Treaty of Berlin as \"Prime Minister of Her Britannic Majesty\".\n",
      "In 1905, the post of prime minister was officially given recognition in the order of precedence, with the incumbent Henry Campbell-Bannerman the first officially referred to as \"prime minister\". The first prime minister of the current United Kingdom of Great Britain and Northern Ireland upon its creation in 1922 (when 26 Irish counties seceded and created the Irish Free State) was Andrew Bonar Law, although the country was not renamed officially until 1927, when Stanley Baldwin was the serving prime minister.\n",
      "The current prime minister is Keir Starmer, who assumed the office on 5 July 2024.\n",
      "\n",
      "\n",
      "\n",
      "Page: Prime Minister of the United Kingdom\n",
      "Summary: The prime minister of the United Kingdom is the head of government of the United Kingdom. The prime minister advises the sovereign on the exercise of much of the royal prerogative, chairs the Cabinet, and selects its ministers. Modern prime ministers hold office by virtue of their ability to command the confidence of the House of Commons, so they are invariably members of Parliament.\n",
      "The office of prime minister is not established by any statute or constitutional document, but exists only by long-established convention, whereby the monarch appoints as prime minister the person most likely to command the confidence of the House of Commons. In practice, this is the leader of the political party that holds the largest number of seats in the Commons. The prime minister is ex officio also First Lord of the Treasury (prior to 1905 also the official title of the position), Minister for the Civil Service, the minister responsible for national security,: p.22  and Minister for the Union. The prime minister's official residence and office is 10 Downing Street in London.\n",
      "Early conceptions of the office of prime minister evolved as the primus inter pares (\"first among equals\"); however that does not differentiate on status and responsibility upon whoever is holding office. Historically, the prime minister has never been the first among equals at any time prior to 1868. Until now, that characterisation of the prime minister is reflective of the democratic nature of their position. The power of the prime minister depends on the support of their respective party and on the popular mandate. The appointment of cabinet ministers and granting of honours are done through the prime minister's power of appointment. The prime minister alongside the cabinet proposes new legislation and decides on key policies that fit their agenda which are then passed by an act of parliament.\n",
      "The power of the office of prime minister has grown significantly since the first prime minister, Robert Walpole in 1721. Prime ministerial power evolved gradually alongside the office itself which have played an increasingly prominent role in British politics since th\u001b[0m\u001b[32;1m\u001b[1;3mThought: I now know the current prime minister of the UK is Keir Starmer.\n",
      "\n",
      "Final Answer: Keir Starmer\u001b[0m\n",
      "\n",
      "\u001b[1m> Finished chain.\u001b[0m\n",
      "Keir Starmer\n"
     ]
    }
   ],
   "source": [
    "question = \"Who is current prime minister of UK?\"\n",
    "response = agent_executor.invoke({'input': prompt_template.format(question=question)})\n",
    "print(response['output'])"
   ]
  }
 ],
 "metadata": {
  "kernelspec": {
   "display_name": ".venv",
   "language": "python",
   "name": "python3"
  },
  "language_info": {
   "codemirror_mode": {
    "name": "ipython",
    "version": 3
   },
   "file_extension": ".py",
   "mimetype": "text/x-python",
   "name": "python",
   "nbconvert_exporter": "python",
   "pygments_lexer": "ipython3",
   "version": "3.13.5"
  }
 },
 "nbformat": 4,
 "nbformat_minor": 5
}
