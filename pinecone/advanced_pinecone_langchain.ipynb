{
 "cells": [
  {
   "cell_type": "markdown",
   "id": "2c0b3dd8",
   "metadata": {},
   "source": [
    "## dotenv and chat models setup"
   ]
  },
  {
   "cell_type": "code",
   "execution_count": 1,
   "id": "9844c798",
   "metadata": {},
   "outputs": [
    {
     "data": {
      "text/plain": [
       "True"
      ]
     },
     "execution_count": 1,
     "metadata": {},
     "output_type": "execute_result"
    }
   ],
   "source": [
    "from dotenv import load_dotenv, find_dotenv\n",
    "import os\n",
    "\n",
    "load_dotenv(find_dotenv(), override=True)"
   ]
  },
  {
   "cell_type": "code",
   "execution_count": 2,
   "id": "f4cb988f",
   "metadata": {},
   "outputs": [
    {
     "name": "stdout",
     "output_type": "stream",
     "text": [
      "The capital of Finland is Helsinki.\n"
     ]
    }
   ],
   "source": [
    "from langchain_groq import ChatGroq\n",
    "\n",
    "llm = ChatGroq(model=\"llama3-8b-8192\", temperature=1)\n",
    "\n",
    "response = llm.invoke(\"What is the capital of Finland?\")\n",
    "print(response.content)"
   ]
  },
  {
   "cell_type": "markdown",
   "id": "2186c2d5",
   "metadata": {},
   "source": [
    "### load document "
   ]
  },
  {
   "cell_type": "code",
   "execution_count": 3,
   "id": "a5731103",
   "metadata": {},
   "outputs": [],
   "source": [
    "def load_document(file_path):\n",
    "    from langchain.document_loaders import PyPDFLoader\n",
    "    print(f\"Loading document {file_path}...\")\n",
    "    loader = PyPDFLoader(file_path)\n",
    "    data = loader.load()\n",
    "    return data"
   ]
  },
  {
   "cell_type": "code",
   "execution_count": 4,
   "id": "27855104",
   "metadata": {},
   "outputs": [
    {
     "name": "stdout",
     "output_type": "stream",
     "text": [
      "Loading document us_constitution.pdf...\n",
      "Loaded 41 pages from the document.\n",
      "----------------------------------------\n",
      "First page content:\n",
      "The United States Constitution \n",
      " W e the People of the United States, in Order to form a more perfect \n",
      " Union, establish Justice, insure domestic T ranquility , provide for the \n",
      " common defence, promote the general W elfare, and secure the \n",
      " Blessings of Liberty to ourselves and our Posterity , do ordain and \n",
      " establish this Constitution for the United States of America. \n",
      "The Constitutional Con v ention \n",
      " Article I \n",
      " Section 1: Congress \n",
      " All legislative Powers herein granted shall be vested in a Congress of \n",
      " the United States, which shall consist of a Senate and House of \n",
      " Representatives. \n",
      "Section 2: The House of Representatives\n"
     ]
    }
   ],
   "source": [
    "data = load_document(\"us_constitution.pdf\")\n",
    "\n",
    "print(f\"Loaded {len(data)} pages from the document.\")\n",
    "print(\"-\" * 40)\n",
    "\n",
    "print(\"First page content:\")\n",
    "print(data[0].page_content)"
   ]
  }
 ],
 "metadata": {
  "kernelspec": {
   "display_name": ".venv",
   "language": "python",
   "name": "python3"
  },
  "language_info": {
   "codemirror_mode": {
    "name": "ipython",
    "version": 3
   },
   "file_extension": ".py",
   "mimetype": "text/x-python",
   "name": "python",
   "nbconvert_exporter": "python",
   "pygments_lexer": "ipython3",
   "version": "3.13.5"
  }
 },
 "nbformat": 4,
 "nbformat_minor": 5
}
