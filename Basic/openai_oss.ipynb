{
 "cells": [
  {
   "cell_type": "code",
   "execution_count": 2,
   "id": "b1b37291",
   "metadata": {},
   "outputs": [],
   "source": [
    "from openai import OpenAI\n",
    "import os"
   ]
  },
  {
   "cell_type": "code",
   "execution_count": 9,
   "id": "f71b35e3",
   "metadata": {},
   "outputs": [
    {
     "name": "stdout",
     "output_type": "stream",
     "text": [
      "There are **3** letters “r” in the word \"strawberry\".\n"
     ]
    }
   ],
   "source": [
    "client = OpenAI(\n",
    "    base_url=\"https://router.huggingface.co/v1\",\n",
    "    api_key=os.getenv(\"HUGGINGFACE_API_KEY\"),\n",
    ")\n",
    "\n",
    "response = client.responses.create(\n",
    "    model=\"openai/gpt-oss-20b:fireworks-ai\",\n",
    "    input=\"How many rs are in the word 'strawberry'?\",\n",
    ")\n",
    "\n",
    "# To print the main output text from the response in a readable way:\n",
    "print(response.output[1].content[0].text)\n"
   ]
  },
  {
   "cell_type": "code",
   "execution_count": 13,
   "id": "72581269",
   "metadata": {},
   "outputs": [
    {
     "name": "stdout",
     "output_type": "stream",
     "text": [
      "The word **“strawberry”** is spelled:\n",
      "\n",
      "**s‑t‑r‑a‑w‑b‑e‑r‑r‑y**\n",
      "\n",
      "It contains the letter **‘r’** three times – at the 3rd, 8th, and 9th positions.  \n",
      "\n",
      "**Answer: 3 r’s**.\n"
     ]
    }
   ],
   "source": [
    "# Using the OpenAI client with Hugging Face for chat completions\n",
    "client = OpenAI(\n",
    "    base_url=\"https://router.huggingface.co/v1\",\n",
    "    api_key=os.environ[\"HUGGINGFACE_API_KEY\"],\n",
    ")\n",
    "\n",
    "completion = client.chat.completions.create(\n",
    "    model=\"openai/gpt-oss-120b:cerebras\",\n",
    "    messages=[\n",
    "        {\n",
    "            \"role\": \"user\",\n",
    "            \"content\": \"How many rs are in the word 'strawberry'?\",\n",
    "        }\n",
    "    ],\n",
    ")\n",
    "\n",
    "print(completion.choices[0].message.content)\n"
   ]
  }
 ],
 "metadata": {
  "kernelspec": {
   "display_name": "Python 3",
   "language": "python",
   "name": "python3"
  },
  "language_info": {
   "codemirror_mode": {
    "name": "ipython",
    "version": 3
   },
   "file_extension": ".py",
   "mimetype": "text/x-python",
   "name": "python",
   "nbconvert_exporter": "python",
   "pygments_lexer": "ipython3",
   "version": "3.12.9"
  }
 },
 "nbformat": 4,
 "nbformat_minor": 5
}
