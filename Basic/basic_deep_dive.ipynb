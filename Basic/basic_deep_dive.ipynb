{
 "cells": [
  {
   "cell_type": "markdown",
   "id": "32577af4",
   "metadata": {},
   "source": [
    "## python-dotenv"
   ]
  },
  {
   "cell_type": "code",
   "execution_count": 2,
   "id": "a4e7b6ea",
   "metadata": {},
   "outputs": [
    {
     "data": {
      "text/plain": [
       "True"
      ]
     },
     "execution_count": 2,
     "metadata": {},
     "output_type": "execute_result"
    }
   ],
   "source": [
    "from dotenv import load_dotenv, find_dotenv\n",
    "import os\n",
    "\n",
    "\n",
    "load_dotenv(find_dotenv(), override=True)"
   ]
  },
  {
   "cell_type": "markdown",
   "id": "c5638392",
   "metadata": {},
   "source": [
    "## ChatModels"
   ]
  },
  {
   "cell_type": "code",
   "execution_count": 3,
   "id": "ca520704",
   "metadata": {},
   "outputs": [
    {
     "name": "stdout",
     "output_type": "stream",
     "text": [
      "The capital of France is Paris.\n"
     ]
    }
   ],
   "source": [
    "from langchain_groq import ChatGroq\n",
    "\n",
    "llm = ChatGroq(model=\"llama3-8b-8192\", temperature=0.1)\n",
    "\n",
    "response = llm.invoke(\"What is the capital of France?\")\n",
    "print(response.content)"
   ]
  },
  {
   "cell_type": "code",
   "execution_count": 6,
   "id": "b3407547",
   "metadata": {},
   "outputs": [
    {
     "name": "stdout",
     "output_type": "stream",
     "text": [
      "The capital of France is Paris!\n"
     ]
    }
   ],
   "source": [
    "from langchain.schema import (\n",
    "    SystemMessage,\n",
    "    HumanMessage,\n",
    "    AIMessage\n",
    ")\n",
    "\n",
    "messages = [\n",
    "    SystemMessage(content=\"You are a helpful assistant.\"),\n",
    "    HumanMessage(content=\"What is the capital of France?\")\n",
    "]\n",
    "\n",
    "response = llm.invoke(messages)\n",
    "print(response.content)"
   ]
  },
  {
   "cell_type": "markdown",
   "id": "35646ef8",
   "metadata": {},
   "source": [
    "## Caching LLM Response\n",
    "#### In-memory Cache"
   ]
  },
  {
   "cell_type": "code",
   "execution_count": 8,
   "id": "27f04bf5",
   "metadata": {},
   "outputs": [
    {
     "name": "stdout",
     "output_type": "stream",
     "text": [
      "The capital of France is Paris.\n",
      "CPU times: total: 15.6 ms\n",
      "Wall time: 299 ms\n"
     ]
    }
   ],
   "source": [
    "%%time\n",
    "from langchain.globals import set_llm_cache\n",
    "from langchain.cache import InMemoryCache\n",
    "\n",
    "set_llm_cache(InMemoryCache())\n",
    "prompt = \"What is the capital of France?\"\n",
    "response = llm.invoke(prompt)\n",
    "print(response.content)"
   ]
  },
  {
   "cell_type": "code",
   "execution_count": 9,
   "id": "d75dd949",
   "metadata": {},
   "outputs": [
    {
     "name": "stdout",
     "output_type": "stream",
     "text": [
      "The capital of France is Paris.\n",
      "CPU times: total: 0 ns\n",
      "Wall time: 743 μs\n"
     ]
    }
   ],
   "source": [
    "%%time\n",
    "response = llm.invoke(prompt)\n",
    "print(response.content)"
   ]
  },
  {
   "cell_type": "markdown",
   "id": "7edf70f3",
   "metadata": {},
   "source": [
    "## LLM Streaming"
   ]
  },
  {
   "cell_type": "code",
   "execution_count": 13,
   "id": "d2266c65",
   "metadata": {},
   "outputs": [
    {
     "name": "stdout",
     "output_type": "stream",
     "text": [
      "Haiku's gentle art\n",
      "Syllables in perfect part\n",
      "Nature's fleeting heart\n",
      "\n",
      "In three lines, a tale is told\n",
      "Of seasons, sun, and snow cold\n",
      "Moments to behold\n",
      "\n",
      "The traditional form\n",
      "Five-seven-five, a wistful norm\n",
      "Concise, yet profound\n",
      "\n",
      "A glimpse of life's brief span\n",
      "A haiku captures the plan\n",
      "Of nature's subtle hand\n",
      "\n",
      "In haiku's quiet space\n",
      "The world's beauty finds its place\n",
      "A moment's peaceful face\n",
      "\n",
      "The art of haiku's skill\n",
      "To capture life's fleeting will\n",
      "In few, well-chosen words still\n",
      "\n",
      "A haiku's beauty lies\n",
      "In its simplicity's guise\n",
      "A reflection of the skies"
     ]
    }
   ],
   "source": [
    "prompt = \"Write a poem about haiku?\"\n",
    "\n",
    "for chunk in llm.stream(prompt):\n",
    "    print(chunk.content, end=\"\", flush=True)"
   ]
  },
  {
   "cell_type": "markdown",
   "id": "855509fd",
   "metadata": {},
   "source": [
    "## Prompt Templates"
   ]
  },
  {
   "cell_type": "code",
   "execution_count": 15,
   "id": "3a5967f4",
   "metadata": {},
   "outputs": [
    {
     "name": "stdout",
     "output_type": "stream",
     "text": [
      "AC Milan, one of the most successful and storied clubs in Italian football history! Founded in 1899, the Rossoneri (Red and Blacks) have won an impressive 18 Serie A titles, 5 European Cups, and 2 Intercontinental Cups. With a rich legacy of talented players, including the likes of Paolo Maldini, Franco Baresi, and Andriy Shevchenko, AC Milan has consistently been a force to be reckoned with in European football. Under the guidance of legendary coaches like Arrigo Sacchi and Carlo Ancelotti, the team has developed a strong identity built on defensive solidity, attacking flair, and a never-say-die spirit. With a passionate fan base and a state-of-the-art stadium, the San Siro, AC Milan remains a beloved and respected institution in the world of football.\n"
     ]
    }
   ],
   "source": [
    "from langchain.prompts import PromptTemplate\n",
    "\n",
    "template = \"\"\"You are a football expert. write few lines about {team} football team in {language}.\"\"\"\n",
    "\n",
    "prompt_template = PromptTemplate(template=template)\n",
    "prompt = prompt_template.format(team=\"AC Milan\", language=\"English\")\n",
    "\n",
    "response = llm.invoke(prompt)\n",
    "print(response.content)"
   ]
  },
  {
   "cell_type": "markdown",
   "id": "25c5098e",
   "metadata": {},
   "source": [
    "## Chat Prompt Templates"
   ]
  },
  {
   "cell_type": "code",
   "execution_count": 18,
   "id": "50a60b06",
   "metadata": {},
   "outputs": [
    {
     "name": "stdout",
     "output_type": "stream",
     "text": [
      "{\n",
      "\"topTouristAttractions\": [\n",
      "{\n",
      "\"name\": \"Suomenlinna Sea Fortress\",\n",
      "\"description\": \"A UNESCO World Heritage Site located in Helsinki, Finland, known for its historic military fortress and stunning harbor views.\"\n",
      "},\n",
      "{\n",
      "\"name\": \"Lapland\",\n",
      "\"description\": \"A vast and remote region in northern Finland, known for its breathtaking natural beauty, including the Northern Lights, snow-covered landscapes, and traditional Sami culture.\"\n",
      "}\n",
      "]\n",
      "}\n"
     ]
    }
   ],
   "source": [
    "from langchain.prompts import ChatPromptTemplate, HumanMessagePromptTemplate\n",
    "from langchain_core.messages import SystemMessage   \n",
    "\n",
    "system_message = SystemMessage(content=\"You respond only in JSON format.\")\n",
    "human_message = HumanMessagePromptTemplate.from_template(\n",
    "    \"List the top {n} tourist attractions in {country}.\"\n",
    ")\n",
    "chat_prompt = ChatPromptTemplate.from_messages( \n",
    "    [system_message, human_message] \n",
    ")\n",
    "prompt = chat_prompt.format_prompt(country=\"Finland\",n=2)\n",
    "response = llm.invoke(prompt)   \n",
    "print(response.content)"
   ]
  }
 ],
 "metadata": {
  "kernelspec": {
   "display_name": ".venv",
   "language": "python",
   "name": "python3"
  },
  "language_info": {
   "codemirror_mode": {
    "name": "ipython",
    "version": 3
   },
   "file_extension": ".py",
   "mimetype": "text/x-python",
   "name": "python",
   "nbconvert_exporter": "python",
   "pygments_lexer": "ipython3",
   "version": "3.13.5"
  }
 },
 "nbformat": 4,
 "nbformat_minor": 5
}
