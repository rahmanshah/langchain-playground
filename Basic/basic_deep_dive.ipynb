{
 "cells": [
  {
   "cell_type": "markdown",
   "id": "32577af4",
   "metadata": {},
   "source": [
    "## python-dotenv"
   ]
  },
  {
   "cell_type": "code",
   "execution_count": 2,
   "id": "a4e7b6ea",
   "metadata": {},
   "outputs": [
    {
     "data": {
      "text/plain": [
       "True"
      ]
     },
     "execution_count": 2,
     "metadata": {},
     "output_type": "execute_result"
    }
   ],
   "source": [
    "from dotenv import load_dotenv, find_dotenv\n",
    "import os\n",
    "\n",
    "\n",
    "load_dotenv(find_dotenv(), override=True)"
   ]
  },
  {
   "cell_type": "markdown",
   "id": "c5638392",
   "metadata": {},
   "source": [
    "## ChatModels"
   ]
  },
  {
   "cell_type": "code",
   "execution_count": 3,
   "id": "ca520704",
   "metadata": {},
   "outputs": [
    {
     "name": "stdout",
     "output_type": "stream",
     "text": [
      "The capital of France is Paris.\n"
     ]
    }
   ],
   "source": [
    "from langchain_groq import ChatGroq\n",
    "\n",
    "llm = ChatGroq(model=\"llama3-8b-8192\", temperature=0.1)\n",
    "\n",
    "response = llm.invoke(\"What is the capital of France?\")\n",
    "print(response.content)"
   ]
  },
  {
   "cell_type": "code",
   "execution_count": 6,
   "id": "b3407547",
   "metadata": {},
   "outputs": [
    {
     "name": "stdout",
     "output_type": "stream",
     "text": [
      "The capital of France is Paris!\n"
     ]
    }
   ],
   "source": [
    "from langchain.schema import (\n",
    "    SystemMessage,\n",
    "    HumanMessage,\n",
    "    AIMessage\n",
    ")\n",
    "\n",
    "messages = [\n",
    "    SystemMessage(content=\"You are a helpful assistant.\"),\n",
    "    HumanMessage(content=\"What is the capital of France?\")\n",
    "]\n",
    "\n",
    "response = llm.invoke(messages)\n",
    "print(response.content)"
   ]
  },
  {
   "cell_type": "markdown",
   "id": "35646ef8",
   "metadata": {},
   "source": [
    "## Caching LLM Response\n",
    "#### In-memory Cache"
   ]
  },
  {
   "cell_type": "code",
   "execution_count": 8,
   "id": "27f04bf5",
   "metadata": {},
   "outputs": [
    {
     "name": "stdout",
     "output_type": "stream",
     "text": [
      "The capital of France is Paris.\n",
      "CPU times: total: 15.6 ms\n",
      "Wall time: 299 ms\n"
     ]
    }
   ],
   "source": [
    "%%time\n",
    "from langchain.globals import set_llm_cache\n",
    "from langchain.cache import InMemoryCache\n",
    "\n",
    "set_llm_cache(InMemoryCache())\n",
    "prompt = \"What is the capital of France?\"\n",
    "response = llm.invoke(prompt)\n",
    "print(response.content)"
   ]
  },
  {
   "cell_type": "code",
   "execution_count": 9,
   "id": "d75dd949",
   "metadata": {},
   "outputs": [
    {
     "name": "stdout",
     "output_type": "stream",
     "text": [
      "The capital of France is Paris.\n",
      "CPU times: total: 0 ns\n",
      "Wall time: 743 μs\n"
     ]
    }
   ],
   "source": [
    "%%time\n",
    "response = llm.invoke(prompt)\n",
    "print(response.content)"
   ]
  },
  {
   "cell_type": "markdown",
   "id": "7edf70f3",
   "metadata": {},
   "source": [
    "## LLM Streaming"
   ]
  },
  {
   "cell_type": "code",
   "execution_count": 13,
   "id": "d2266c65",
   "metadata": {},
   "outputs": [
    {
     "name": "stdout",
     "output_type": "stream",
     "text": [
      "Haiku's gentle art\n",
      "Syllables in perfect part\n",
      "Nature's fleeting heart\n",
      "\n",
      "In three lines, a tale is told\n",
      "Of seasons, sun, and snow cold\n",
      "Moments to behold\n",
      "\n",
      "The traditional form\n",
      "Five-seven-five, a wistful norm\n",
      "Concise, yet profound\n",
      "\n",
      "A glimpse of life's brief span\n",
      "A haiku captures the plan\n",
      "Of nature's subtle hand\n",
      "\n",
      "In haiku's quiet space\n",
      "The world's beauty finds its place\n",
      "A moment's peaceful face\n",
      "\n",
      "The art of haiku's skill\n",
      "To capture life's fleeting will\n",
      "In few, well-chosen words still\n",
      "\n",
      "A haiku's beauty lies\n",
      "In its simplicity's guise\n",
      "A reflection of the skies"
     ]
    }
   ],
   "source": [
    "prompt = \"Write a poem about haiku?\"\n",
    "\n",
    "for chunk in llm.stream(prompt):\n",
    "    print(chunk.content, end=\"\", flush=True)"
   ]
  }
 ],
 "metadata": {
  "kernelspec": {
   "display_name": ".venv",
   "language": "python",
   "name": "python3"
  },
  "language_info": {
   "codemirror_mode": {
    "name": "ipython",
    "version": 3
   },
   "file_extension": ".py",
   "mimetype": "text/x-python",
   "name": "python",
   "nbconvert_exporter": "python",
   "pygments_lexer": "ipython3",
   "version": "3.13.5"
  }
 },
 "nbformat": 4,
 "nbformat_minor": 5
}
